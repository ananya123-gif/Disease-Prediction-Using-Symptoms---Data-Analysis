{
 "cells": [
  {
   "cell_type": "code",
   "execution_count": 84,
   "metadata": {},
   "outputs": [],
   "source": [
    "import pandas as pd\n",
    "import numpy as np\n",
    "import matplotlib.pyplot as plt\n",
    "from sklearn.model_selection import train_test_split,KFold,cross_val_score,GridSearchCV\n",
    "from sklearn.svm import SVC\n",
    "from sklearn.metrics import f1_score, accuracy_score, confusion_matrix,classification_report,plot_confusion_matrix,plot_roc_curve,precision_score,roc_curve\n",
    "import seaborn as sns\n",
    "from sklearn.utils import shuffle\n",
    "from pandas_profiling import ProfileReport\n",
    "from sklearn.linear_model import LogisticRegression, Perceptron, RidgeClassifier, SGDClassifier\n",
    "from sklearn.svm import SVC, LinearSVC\n",
    "from sklearn.ensemble import RandomForestClassifier, GradientBoostingClassifier, ExtraTreesClassifier \n",
    "from sklearn.ensemble import BaggingClassifier, AdaBoostClassifier, VotingClassifier \n",
    "from sklearn.neighbors import KNeighborsClassifier\n",
    "from sklearn.naive_bayes import GaussianNB\n",
    "from sklearn.tree import DecisionTreeClassifier\n",
    "from sklearn import metrics"
   ]
  },
  {
   "cell_type": "code",
   "execution_count": 85,
   "metadata": {},
   "outputs": [
    {
     "data": {
      "text/html": [
       "<div>\n",
       "<style scoped>\n",
       "    .dataframe tbody tr th:only-of-type {\n",
       "        vertical-align: middle;\n",
       "    }\n",
       "\n",
       "    .dataframe tbody tr th {\n",
       "        vertical-align: top;\n",
       "    }\n",
       "\n",
       "    .dataframe thead th {\n",
       "        text-align: right;\n",
       "    }\n",
       "</style>\n",
       "<table border=\"1\" class=\"dataframe\">\n",
       "  <thead>\n",
       "    <tr style=\"text-align: right;\">\n",
       "      <th></th>\n",
       "      <th>Disease</th>\n",
       "      <th>Symptom_1</th>\n",
       "      <th>Symptom_2</th>\n",
       "      <th>Symptom_3</th>\n",
       "      <th>Symptom_4</th>\n",
       "      <th>Symptom_5</th>\n",
       "      <th>Symptom_6</th>\n",
       "      <th>Symptom_7</th>\n",
       "      <th>Symptom_8</th>\n",
       "      <th>Symptom_9</th>\n",
       "      <th>Symptom_10</th>\n",
       "      <th>Symptom_11</th>\n",
       "      <th>Symptom_12</th>\n",
       "      <th>Symptom_13</th>\n",
       "      <th>Symptom_14</th>\n",
       "      <th>Symptom_15</th>\n",
       "      <th>Symptom_16</th>\n",
       "      <th>Symptom_17</th>\n",
       "    </tr>\n",
       "  </thead>\n",
       "  <tbody>\n",
       "    <tr>\n",
       "      <th>373</th>\n",
       "      <td>Acne</td>\n",
       "      <td>skin_rash</td>\n",
       "      <td>blackheads</td>\n",
       "      <td>scurring</td>\n",
       "      <td>NaN</td>\n",
       "      <td>NaN</td>\n",
       "      <td>NaN</td>\n",
       "      <td>NaN</td>\n",
       "      <td>NaN</td>\n",
       "      <td>NaN</td>\n",
       "      <td>NaN</td>\n",
       "      <td>NaN</td>\n",
       "      <td>NaN</td>\n",
       "      <td>NaN</td>\n",
       "      <td>NaN</td>\n",
       "      <td>NaN</td>\n",
       "      <td>NaN</td>\n",
       "      <td>NaN</td>\n",
       "    </tr>\n",
       "    <tr>\n",
       "      <th>4916</th>\n",
       "      <td>Acne</td>\n",
       "      <td>skin_rash</td>\n",
       "      <td>pus_filled_pimples</td>\n",
       "      <td>blackheads</td>\n",
       "      <td>scurring</td>\n",
       "      <td>NaN</td>\n",
       "      <td>NaN</td>\n",
       "      <td>NaN</td>\n",
       "      <td>NaN</td>\n",
       "      <td>NaN</td>\n",
       "      <td>NaN</td>\n",
       "      <td>NaN</td>\n",
       "      <td>NaN</td>\n",
       "      <td>NaN</td>\n",
       "      <td>NaN</td>\n",
       "      <td>NaN</td>\n",
       "      <td>NaN</td>\n",
       "      <td>NaN</td>\n",
       "    </tr>\n",
       "    <tr>\n",
       "      <th>1550</th>\n",
       "      <td>Hyperthyroidism</td>\n",
       "      <td>fatigue</td>\n",
       "      <td>mood_swings</td>\n",
       "      <td>weight_loss</td>\n",
       "      <td>restlessness</td>\n",
       "      <td>sweating</td>\n",
       "      <td>diarrhoea</td>\n",
       "      <td>fast_heart_rate</td>\n",
       "      <td>excessive_hunger</td>\n",
       "      <td>muscle_weakness</td>\n",
       "      <td>irritability</td>\n",
       "      <td>abnormal_menstruation</td>\n",
       "      <td>NaN</td>\n",
       "      <td>NaN</td>\n",
       "      <td>NaN</td>\n",
       "      <td>NaN</td>\n",
       "      <td>NaN</td>\n",
       "      <td>NaN</td>\n",
       "    </tr>\n",
       "    <tr>\n",
       "      <th>3081</th>\n",
       "      <td>AIDS</td>\n",
       "      <td>muscle_wasting</td>\n",
       "      <td>patches_in_throat</td>\n",
       "      <td>high_fever</td>\n",
       "      <td>extra_marital_contacts</td>\n",
       "      <td>NaN</td>\n",
       "      <td>NaN</td>\n",
       "      <td>NaN</td>\n",
       "      <td>NaN</td>\n",
       "      <td>NaN</td>\n",
       "      <td>NaN</td>\n",
       "      <td>NaN</td>\n",
       "      <td>NaN</td>\n",
       "      <td>NaN</td>\n",
       "      <td>NaN</td>\n",
       "      <td>NaN</td>\n",
       "      <td>NaN</td>\n",
       "      <td>NaN</td>\n",
       "    </tr>\n",
       "    <tr>\n",
       "      <th>3857</th>\n",
       "      <td>Chronic cholestasis</td>\n",
       "      <td>itching</td>\n",
       "      <td>vomiting</td>\n",
       "      <td>yellowish_skin</td>\n",
       "      <td>nausea</td>\n",
       "      <td>loss_of_appetite</td>\n",
       "      <td>abdominal_pain</td>\n",
       "      <td>yellowing_of_eyes</td>\n",
       "      <td>NaN</td>\n",
       "      <td>NaN</td>\n",
       "      <td>NaN</td>\n",
       "      <td>NaN</td>\n",
       "      <td>NaN</td>\n",
       "      <td>NaN</td>\n",
       "      <td>NaN</td>\n",
       "      <td>NaN</td>\n",
       "      <td>NaN</td>\n",
       "      <td>NaN</td>\n",
       "    </tr>\n",
       "  </tbody>\n",
       "</table>\n",
       "</div>"
      ],
      "text/plain": [
       "                  Disease        Symptom_1            Symptom_2  \\\n",
       "373                  Acne        skin_rash           blackheads   \n",
       "4916                 Acne        skin_rash   pus_filled_pimples   \n",
       "1550      Hyperthyroidism          fatigue          mood_swings   \n",
       "3081                 AIDS   muscle_wasting    patches_in_throat   \n",
       "3857  Chronic cholestasis          itching             vomiting   \n",
       "\n",
       "            Symptom_3                Symptom_4          Symptom_5  \\\n",
       "373          scurring                      NaN                NaN   \n",
       "4916       blackheads                 scurring                NaN   \n",
       "1550      weight_loss             restlessness           sweating   \n",
       "3081       high_fever   extra_marital_contacts                NaN   \n",
       "3857   yellowish_skin                   nausea   loss_of_appetite   \n",
       "\n",
       "            Symptom_6           Symptom_7          Symptom_8  \\\n",
       "373               NaN                 NaN                NaN   \n",
       "4916              NaN                 NaN                NaN   \n",
       "1550        diarrhoea     fast_heart_rate   excessive_hunger   \n",
       "3081              NaN                 NaN                NaN   \n",
       "3857   abdominal_pain   yellowing_of_eyes                NaN   \n",
       "\n",
       "             Symptom_9     Symptom_10              Symptom_11 Symptom_12  \\\n",
       "373                NaN            NaN                     NaN        NaN   \n",
       "4916               NaN            NaN                     NaN        NaN   \n",
       "1550   muscle_weakness   irritability   abnormal_menstruation        NaN   \n",
       "3081               NaN            NaN                     NaN        NaN   \n",
       "3857               NaN            NaN                     NaN        NaN   \n",
       "\n",
       "     Symptom_13 Symptom_14 Symptom_15 Symptom_16 Symptom_17  \n",
       "373         NaN        NaN        NaN        NaN        NaN  \n",
       "4916        NaN        NaN        NaN        NaN        NaN  \n",
       "1550        NaN        NaN        NaN        NaN        NaN  \n",
       "3081        NaN        NaN        NaN        NaN        NaN  \n",
       "3857        NaN        NaN        NaN        NaN        NaN  "
      ]
     },
     "execution_count": 85,
     "metadata": {},
     "output_type": "execute_result"
    }
   ],
   "source": [
    "df = pd.read_csv('dataset.csv')\n",
    "df = shuffle(df,random_state=42)\n",
    "df.head()"
   ]
  },
  {
   "cell_type": "code",
   "execution_count": 86,
   "metadata": {},
   "outputs": [
    {
     "data": {
      "text/html": [
       "<div>\n",
       "<style scoped>\n",
       "    .dataframe tbody tr th:only-of-type {\n",
       "        vertical-align: middle;\n",
       "    }\n",
       "\n",
       "    .dataframe tbody tr th {\n",
       "        vertical-align: top;\n",
       "    }\n",
       "\n",
       "    .dataframe thead th {\n",
       "        text-align: right;\n",
       "    }\n",
       "</style>\n",
       "<table border=\"1\" class=\"dataframe\">\n",
       "  <thead>\n",
       "    <tr style=\"text-align: right;\">\n",
       "      <th></th>\n",
       "      <th>Disease</th>\n",
       "      <th>Symptom_1</th>\n",
       "      <th>Symptom_2</th>\n",
       "      <th>Symptom_3</th>\n",
       "      <th>Symptom_4</th>\n",
       "      <th>Symptom_5</th>\n",
       "      <th>Symptom_6</th>\n",
       "      <th>Symptom_7</th>\n",
       "      <th>Symptom_8</th>\n",
       "      <th>Symptom_9</th>\n",
       "      <th>Symptom_10</th>\n",
       "      <th>Symptom_11</th>\n",
       "      <th>Symptom_12</th>\n",
       "      <th>Symptom_13</th>\n",
       "      <th>Symptom_14</th>\n",
       "      <th>Symptom_15</th>\n",
       "      <th>Symptom_16</th>\n",
       "      <th>Symptom_17</th>\n",
       "    </tr>\n",
       "  </thead>\n",
       "  <tbody>\n",
       "    <tr>\n",
       "      <th>373</th>\n",
       "      <td>Acne</td>\n",
       "      <td>skin rash</td>\n",
       "      <td>blackheads</td>\n",
       "      <td>scurring</td>\n",
       "      <td>NaN</td>\n",
       "      <td>NaN</td>\n",
       "      <td>NaN</td>\n",
       "      <td>NaN</td>\n",
       "      <td>NaN</td>\n",
       "      <td>NaN</td>\n",
       "      <td>NaN</td>\n",
       "      <td>NaN</td>\n",
       "      <td>NaN</td>\n",
       "      <td>NaN</td>\n",
       "      <td>NaN</td>\n",
       "      <td>NaN</td>\n",
       "      <td>NaN</td>\n",
       "      <td>NaN</td>\n",
       "    </tr>\n",
       "    <tr>\n",
       "      <th>4916</th>\n",
       "      <td>Acne</td>\n",
       "      <td>skin rash</td>\n",
       "      <td>pus filled pimples</td>\n",
       "      <td>blackheads</td>\n",
       "      <td>scurring</td>\n",
       "      <td>NaN</td>\n",
       "      <td>NaN</td>\n",
       "      <td>NaN</td>\n",
       "      <td>NaN</td>\n",
       "      <td>NaN</td>\n",
       "      <td>NaN</td>\n",
       "      <td>NaN</td>\n",
       "      <td>NaN</td>\n",
       "      <td>NaN</td>\n",
       "      <td>NaN</td>\n",
       "      <td>NaN</td>\n",
       "      <td>NaN</td>\n",
       "      <td>NaN</td>\n",
       "    </tr>\n",
       "    <tr>\n",
       "      <th>1550</th>\n",
       "      <td>Hyperthyroidism</td>\n",
       "      <td>fatigue</td>\n",
       "      <td>mood swings</td>\n",
       "      <td>weight loss</td>\n",
       "      <td>restlessness</td>\n",
       "      <td>sweating</td>\n",
       "      <td>diarrhoea</td>\n",
       "      <td>fast heart rate</td>\n",
       "      <td>excessive hunger</td>\n",
       "      <td>muscle weakness</td>\n",
       "      <td>irritability</td>\n",
       "      <td>abnormal menstruation</td>\n",
       "      <td>NaN</td>\n",
       "      <td>NaN</td>\n",
       "      <td>NaN</td>\n",
       "      <td>NaN</td>\n",
       "      <td>NaN</td>\n",
       "      <td>NaN</td>\n",
       "    </tr>\n",
       "    <tr>\n",
       "      <th>3081</th>\n",
       "      <td>AIDS</td>\n",
       "      <td>muscle wasting</td>\n",
       "      <td>patches in throat</td>\n",
       "      <td>high fever</td>\n",
       "      <td>extra marital contacts</td>\n",
       "      <td>NaN</td>\n",
       "      <td>NaN</td>\n",
       "      <td>NaN</td>\n",
       "      <td>NaN</td>\n",
       "      <td>NaN</td>\n",
       "      <td>NaN</td>\n",
       "      <td>NaN</td>\n",
       "      <td>NaN</td>\n",
       "      <td>NaN</td>\n",
       "      <td>NaN</td>\n",
       "      <td>NaN</td>\n",
       "      <td>NaN</td>\n",
       "      <td>NaN</td>\n",
       "    </tr>\n",
       "    <tr>\n",
       "      <th>3857</th>\n",
       "      <td>Chronic cholestasis</td>\n",
       "      <td>itching</td>\n",
       "      <td>vomiting</td>\n",
       "      <td>yellowish skin</td>\n",
       "      <td>nausea</td>\n",
       "      <td>loss of appetite</td>\n",
       "      <td>abdominal pain</td>\n",
       "      <td>yellowing of eyes</td>\n",
       "      <td>NaN</td>\n",
       "      <td>NaN</td>\n",
       "      <td>NaN</td>\n",
       "      <td>NaN</td>\n",
       "      <td>NaN</td>\n",
       "      <td>NaN</td>\n",
       "      <td>NaN</td>\n",
       "      <td>NaN</td>\n",
       "      <td>NaN</td>\n",
       "      <td>NaN</td>\n",
       "    </tr>\n",
       "  </tbody>\n",
       "</table>\n",
       "</div>"
      ],
      "text/plain": [
       "                  Disease        Symptom_1            Symptom_2  \\\n",
       "373                  Acne        skin rash           blackheads   \n",
       "4916                 Acne        skin rash   pus filled pimples   \n",
       "1550      Hyperthyroidism          fatigue          mood swings   \n",
       "3081                 AIDS   muscle wasting    patches in throat   \n",
       "3857  Chronic cholestasis          itching             vomiting   \n",
       "\n",
       "            Symptom_3                Symptom_4          Symptom_5  \\\n",
       "373          scurring                      NaN                NaN   \n",
       "4916       blackheads                 scurring                NaN   \n",
       "1550      weight loss             restlessness           sweating   \n",
       "3081       high fever   extra marital contacts                NaN   \n",
       "3857   yellowish skin                   nausea   loss of appetite   \n",
       "\n",
       "            Symptom_6           Symptom_7          Symptom_8  \\\n",
       "373               NaN                 NaN                NaN   \n",
       "4916              NaN                 NaN                NaN   \n",
       "1550        diarrhoea     fast heart rate   excessive hunger   \n",
       "3081              NaN                 NaN                NaN   \n",
       "3857   abdominal pain   yellowing of eyes                NaN   \n",
       "\n",
       "             Symptom_9     Symptom_10              Symptom_11 Symptom_12  \\\n",
       "373                NaN            NaN                     NaN        NaN   \n",
       "4916               NaN            NaN                     NaN        NaN   \n",
       "1550   muscle weakness   irritability   abnormal menstruation        NaN   \n",
       "3081               NaN            NaN                     NaN        NaN   \n",
       "3857               NaN            NaN                     NaN        NaN   \n",
       "\n",
       "     Symptom_13 Symptom_14 Symptom_15 Symptom_16 Symptom_17  \n",
       "373         NaN        NaN        NaN        NaN        NaN  \n",
       "4916        NaN        NaN        NaN        NaN        NaN  \n",
       "1550        NaN        NaN        NaN        NaN        NaN  \n",
       "3081        NaN        NaN        NaN        NaN        NaN  \n",
       "3857        NaN        NaN        NaN        NaN        NaN  "
      ]
     },
     "execution_count": 86,
     "metadata": {},
     "output_type": "execute_result"
    }
   ],
   "source": [
    "for col in df.columns:\n",
    "    \n",
    "    df[col] = df[col].str.replace('_',' ')\n",
    "df.head() "
   ]
  },
  {
   "cell_type": "code",
   "execution_count": 87,
   "metadata": {},
   "outputs": [
    {
     "name": "stdout",
     "output_type": "stream",
     "text": [
      "            count\n",
      "Disease         0\n",
      "Symptom_1       0\n",
      "Symptom_2       0\n",
      "Symptom_3       0\n",
      "Symptom_4     348\n",
      "Symptom_5    1206\n",
      "Symptom_6    1986\n",
      "Symptom_7    2652\n",
      "Symptom_8    2976\n",
      "Symptom_9    3228\n",
      "Symptom_10   3408\n",
      "Symptom_11   3726\n",
      "Symptom_12   4176\n",
      "Symptom_13   4416\n",
      "Symptom_14   4614\n",
      "Symptom_15   4680\n",
      "Symptom_16   4728\n",
      "Symptom_17   4848\n"
     ]
    }
   ],
   "source": [
    "null_checker = df.apply(lambda x: sum(x.isnull())).to_frame(name='count')\n",
    "print(null_checker)"
   ]
  },
  {
   "cell_type": "code",
   "execution_count": 88,
   "metadata": {},
   "outputs": [
    {
     "data": {
      "image/png": "[encoded data removed]",
      "text/plain": [
       "<Figure size 720x360 with 1 Axes>"
      ]
     },
     "metadata": {
      "needs_background": "light"
     },
     "output_type": "display_data"
    }
   ],
   "source": [
    "plt.figure(figsize=(10,5))\n",
    "plt.plot(null_checker.index, null_checker['count'])\n",
    "plt.xticks(null_checker.index, null_checker.index, rotation=45,\n",
    "horizontalalignment='right')\n",
    "plt.title('Before removing Null values')\n",
    "plt.xlabel('column names')\n",
    "plt.margins(0.1)\n",
    "plt.show()"
   ]
  },
  {
   "cell_type": "code",
   "execution_count": 89,
   "metadata": {},
   "outputs": [
    {
     "data": {
      "text/html": [
       "<div>\n",
       "<style scoped>\n",
       "    .dataframe tbody tr th:only-of-type {\n",
       "        vertical-align: middle;\n",
       "    }\n",
       "\n",
       "    .dataframe tbody tr th {\n",
       "        vertical-align: top;\n",
       "    }\n",
       "\n",
       "    .dataframe thead th {\n",
       "        text-align: right;\n",
       "    }\n",
       "</style>\n",
       "<table border=\"1\" class=\"dataframe\">\n",
       "  <thead>\n",
       "    <tr style=\"text-align: right;\">\n",
       "      <th></th>\n",
       "      <th>Disease</th>\n",
       "      <th>Symptom_1</th>\n",
       "      <th>Symptom_2</th>\n",
       "      <th>Symptom_3</th>\n",
       "      <th>Symptom_4</th>\n",
       "      <th>Symptom_5</th>\n",
       "      <th>Symptom_6</th>\n",
       "      <th>Symptom_7</th>\n",
       "      <th>Symptom_8</th>\n",
       "      <th>Symptom_9</th>\n",
       "      <th>Symptom_10</th>\n",
       "      <th>Symptom_11</th>\n",
       "      <th>Symptom_12</th>\n",
       "      <th>Symptom_13</th>\n",
       "      <th>Symptom_14</th>\n",
       "      <th>Symptom_15</th>\n",
       "      <th>Symptom_16</th>\n",
       "      <th>Symptom_17</th>\n",
       "    </tr>\n",
       "  </thead>\n",
       "  <tbody>\n",
       "    <tr>\n",
       "      <th>0</th>\n",
       "      <td>Acne</td>\n",
       "      <td>skin rash</td>\n",
       "      <td>blackheads</td>\n",
       "      <td>scurring</td>\n",
       "      <td>NaN</td>\n",
       "      <td>NaN</td>\n",
       "      <td>NaN</td>\n",
       "      <td>NaN</td>\n",
       "      <td>NaN</td>\n",
       "      <td>NaN</td>\n",
       "      <td>NaN</td>\n",
       "      <td>NaN</td>\n",
       "      <td>NaN</td>\n",
       "      <td>NaN</td>\n",
       "      <td>NaN</td>\n",
       "      <td>NaN</td>\n",
       "      <td>NaN</td>\n",
       "      <td>NaN</td>\n",
       "    </tr>\n",
       "    <tr>\n",
       "      <th>1</th>\n",
       "      <td>Acne</td>\n",
       "      <td>skin rash</td>\n",
       "      <td>pus filled pimples</td>\n",
       "      <td>blackheads</td>\n",
       "      <td>scurring</td>\n",
       "      <td>NaN</td>\n",
       "      <td>NaN</td>\n",
       "      <td>NaN</td>\n",
       "      <td>NaN</td>\n",
       "      <td>NaN</td>\n",
       "      <td>NaN</td>\n",
       "      <td>NaN</td>\n",
       "      <td>NaN</td>\n",
       "      <td>NaN</td>\n",
       "      <td>NaN</td>\n",
       "      <td>NaN</td>\n",
       "      <td>NaN</td>\n",
       "      <td>NaN</td>\n",
       "    </tr>\n",
       "    <tr>\n",
       "      <th>2</th>\n",
       "      <td>Hyperthyroidism</td>\n",
       "      <td>fatigue</td>\n",
       "      <td>mood swings</td>\n",
       "      <td>weight loss</td>\n",
       "      <td>restlessness</td>\n",
       "      <td>sweating</td>\n",
       "      <td>diarrhoea</td>\n",
       "      <td>fast heart rate</td>\n",
       "      <td>excessive hunger</td>\n",
       "      <td>muscle weakness</td>\n",
       "      <td>irritability</td>\n",
       "      <td>abnormal menstruation</td>\n",
       "      <td>NaN</td>\n",
       "      <td>NaN</td>\n",
       "      <td>NaN</td>\n",
       "      <td>NaN</td>\n",
       "      <td>NaN</td>\n",
       "      <td>NaN</td>\n",
       "    </tr>\n",
       "    <tr>\n",
       "      <th>3</th>\n",
       "      <td>AIDS</td>\n",
       "      <td>muscle wasting</td>\n",
       "      <td>patches in throat</td>\n",
       "      <td>high fever</td>\n",
       "      <td>extra marital contacts</td>\n",
       "      <td>NaN</td>\n",
       "      <td>NaN</td>\n",
       "      <td>NaN</td>\n",
       "      <td>NaN</td>\n",
       "      <td>NaN</td>\n",
       "      <td>NaN</td>\n",
       "      <td>NaN</td>\n",
       "      <td>NaN</td>\n",
       "      <td>NaN</td>\n",
       "      <td>NaN</td>\n",
       "      <td>NaN</td>\n",
       "      <td>NaN</td>\n",
       "      <td>NaN</td>\n",
       "    </tr>\n",
       "    <tr>\n",
       "      <th>4</th>\n",
       "      <td>Chronic cholestasis</td>\n",
       "      <td>itching</td>\n",
       "      <td>vomiting</td>\n",
       "      <td>yellowish skin</td>\n",
       "      <td>nausea</td>\n",
       "      <td>loss of appetite</td>\n",
       "      <td>abdominal pain</td>\n",
       "      <td>yellowing of eyes</td>\n",
       "      <td>NaN</td>\n",
       "      <td>NaN</td>\n",
       "      <td>NaN</td>\n",
       "      <td>NaN</td>\n",
       "      <td>NaN</td>\n",
       "      <td>NaN</td>\n",
       "      <td>NaN</td>\n",
       "      <td>NaN</td>\n",
       "      <td>NaN</td>\n",
       "      <td>NaN</td>\n",
       "    </tr>\n",
       "  </tbody>\n",
       "</table>\n",
       "</div>"
      ],
      "text/plain": [
       "               Disease       Symptom_1           Symptom_2       Symptom_3  \\\n",
       "0                 Acne       skin rash          blackheads        scurring   \n",
       "1                 Acne       skin rash  pus filled pimples      blackheads   \n",
       "2      Hyperthyroidism         fatigue         mood swings     weight loss   \n",
       "3                 AIDS  muscle wasting   patches in throat      high fever   \n",
       "4  Chronic cholestasis         itching            vomiting  yellowish skin   \n",
       "\n",
       "                Symptom_4         Symptom_5       Symptom_6  \\\n",
       "0                     NaN               NaN             NaN   \n",
       "1                scurring               NaN             NaN   \n",
       "2            restlessness          sweating       diarrhoea   \n",
       "3  extra marital contacts               NaN             NaN   \n",
       "4                  nausea  loss of appetite  abdominal pain   \n",
       "\n",
       "           Symptom_7         Symptom_8        Symptom_9    Symptom_10  \\\n",
       "0                NaN               NaN              NaN           NaN   \n",
       "1                NaN               NaN              NaN           NaN   \n",
       "2    fast heart rate  excessive hunger  muscle weakness  irritability   \n",
       "3                NaN               NaN              NaN           NaN   \n",
       "4  yellowing of eyes               NaN              NaN           NaN   \n",
       "\n",
       "              Symptom_11 Symptom_12 Symptom_13 Symptom_14 Symptom_15  \\\n",
       "0                    NaN        NaN        NaN        NaN        NaN   \n",
       "1                    NaN        NaN        NaN        NaN        NaN   \n",
       "2  abnormal menstruation        NaN        NaN        NaN        NaN   \n",
       "3                    NaN        NaN        NaN        NaN        NaN   \n",
       "4                    NaN        NaN        NaN        NaN        NaN   \n",
       "\n",
       "  Symptom_16 Symptom_17  \n",
       "0        NaN        NaN  \n",
       "1        NaN        NaN  \n",
       "2        NaN        NaN  \n",
       "3        NaN        NaN  \n",
       "4        NaN        NaN  "
      ]
     },
     "execution_count": 89,
     "metadata": {},
     "output_type": "execute_result"
    }
   ],
   "source": [
    "cols = df.columns\n",
    "data = df[cols].values.flatten()\n",
    "\n",
    "s = pd.Series(data)\n",
    "s = s.str.strip()\n",
    "s = s.values.reshape(df.shape)\n",
    "\n",
    "df = pd.DataFrame(s, columns=df.columns)\n",
    "df.head()"
   ]
  },
  {
   "cell_type": "code",
   "execution_count": 90,
   "metadata": {},
   "outputs": [
    {
     "data": {
      "text/html": [
       "<div>\n",
       "<style scoped>\n",
       "    .dataframe tbody tr th:only-of-type {\n",
       "        vertical-align: middle;\n",
       "    }\n",
       "\n",
       "    .dataframe tbody tr th {\n",
       "        vertical-align: top;\n",
       "    }\n",
       "\n",
       "    .dataframe thead th {\n",
       "        text-align: right;\n",
       "    }\n",
       "</style>\n",
       "<table border=\"1\" class=\"dataframe\">\n",
       "  <thead>\n",
       "    <tr style=\"text-align: right;\">\n",
       "      <th></th>\n",
       "      <th>Disease</th>\n",
       "      <th>Symptom_1</th>\n",
       "      <th>Symptom_2</th>\n",
       "      <th>Symptom_3</th>\n",
       "      <th>Symptom_4</th>\n",
       "      <th>Symptom_5</th>\n",
       "      <th>Symptom_6</th>\n",
       "      <th>Symptom_7</th>\n",
       "      <th>Symptom_8</th>\n",
       "      <th>Symptom_9</th>\n",
       "      <th>Symptom_10</th>\n",
       "      <th>Symptom_11</th>\n",
       "      <th>Symptom_12</th>\n",
       "      <th>Symptom_13</th>\n",
       "      <th>Symptom_14</th>\n",
       "      <th>Symptom_15</th>\n",
       "      <th>Symptom_16</th>\n",
       "      <th>Symptom_17</th>\n",
       "    </tr>\n",
       "  </thead>\n",
       "  <tbody>\n",
       "    <tr>\n",
       "      <th>0</th>\n",
       "      <td>Acne</td>\n",
       "      <td>skin rash</td>\n",
       "      <td>blackheads</td>\n",
       "      <td>scurring</td>\n",
       "      <td>0</td>\n",
       "      <td>0</td>\n",
       "      <td>0</td>\n",
       "      <td>0</td>\n",
       "      <td>0</td>\n",
       "      <td>0</td>\n",
       "      <td>0</td>\n",
       "      <td>0</td>\n",
       "      <td>0</td>\n",
       "      <td>0</td>\n",
       "      <td>0</td>\n",
       "      <td>0</td>\n",
       "      <td>0</td>\n",
       "      <td>0</td>\n",
       "    </tr>\n",
       "    <tr>\n",
       "      <th>1</th>\n",
       "      <td>Acne</td>\n",
       "      <td>skin rash</td>\n",
       "      <td>pus filled pimples</td>\n",
       "      <td>blackheads</td>\n",
       "      <td>scurring</td>\n",
       "      <td>0</td>\n",
       "      <td>0</td>\n",
       "      <td>0</td>\n",
       "      <td>0</td>\n",
       "      <td>0</td>\n",
       "      <td>0</td>\n",
       "      <td>0</td>\n",
       "      <td>0</td>\n",
       "      <td>0</td>\n",
       "      <td>0</td>\n",
       "      <td>0</td>\n",
       "      <td>0</td>\n",
       "      <td>0</td>\n",
       "    </tr>\n",
       "    <tr>\n",
       "      <th>2</th>\n",
       "      <td>Hyperthyroidism</td>\n",
       "      <td>fatigue</td>\n",
       "      <td>mood swings</td>\n",
       "      <td>weight loss</td>\n",
       "      <td>restlessness</td>\n",
       "      <td>sweating</td>\n",
       "      <td>diarrhoea</td>\n",
       "      <td>fast heart rate</td>\n",
       "      <td>excessive hunger</td>\n",
       "      <td>muscle weakness</td>\n",
       "      <td>irritability</td>\n",
       "      <td>abnormal menstruation</td>\n",
       "      <td>0</td>\n",
       "      <td>0</td>\n",
       "      <td>0</td>\n",
       "      <td>0</td>\n",
       "      <td>0</td>\n",
       "      <td>0</td>\n",
       "    </tr>\n",
       "    <tr>\n",
       "      <th>3</th>\n",
       "      <td>AIDS</td>\n",
       "      <td>muscle wasting</td>\n",
       "      <td>patches in throat</td>\n",
       "      <td>high fever</td>\n",
       "      <td>extra marital contacts</td>\n",
       "      <td>0</td>\n",
       "      <td>0</td>\n",
       "      <td>0</td>\n",
       "      <td>0</td>\n",
       "      <td>0</td>\n",
       "      <td>0</td>\n",
       "      <td>0</td>\n",
       "      <td>0</td>\n",
       "      <td>0</td>\n",
       "      <td>0</td>\n",
       "      <td>0</td>\n",
       "      <td>0</td>\n",
       "      <td>0</td>\n",
       "    </tr>\n",
       "    <tr>\n",
       "      <th>4</th>\n",
       "      <td>Chronic cholestasis</td>\n",
       "      <td>itching</td>\n",
       "      <td>vomiting</td>\n",
       "      <td>yellowish skin</td>\n",
       "      <td>nausea</td>\n",
       "      <td>loss of appetite</td>\n",
       "      <td>abdominal pain</td>\n",
       "      <td>yellowing of eyes</td>\n",
       "      <td>0</td>\n",
       "      <td>0</td>\n",
       "      <td>0</td>\n",
       "      <td>0</td>\n",
       "      <td>0</td>\n",
       "      <td>0</td>\n",
       "      <td>0</td>\n",
       "      <td>0</td>\n",
       "      <td>0</td>\n",
       "      <td>0</td>\n",
       "    </tr>\n",
       "  </tbody>\n",
       "</table>\n",
       "</div>"
      ],
      "text/plain": [
       "               Disease       Symptom_1           Symptom_2       Symptom_3  \\\n",
       "0                 Acne       skin rash          blackheads        scurring   \n",
       "1                 Acne       skin rash  pus filled pimples      blackheads   \n",
       "2      Hyperthyroidism         fatigue         mood swings     weight loss   \n",
       "3                 AIDS  muscle wasting   patches in throat      high fever   \n",
       "4  Chronic cholestasis         itching            vomiting  yellowish skin   \n",
       "\n",
       "                Symptom_4         Symptom_5       Symptom_6  \\\n",
       "0                       0                 0               0   \n",
       "1                scurring                 0               0   \n",
       "2            restlessness          sweating       diarrhoea   \n",
       "3  extra marital contacts                 0               0   \n",
       "4                  nausea  loss of appetite  abdominal pain   \n",
       "\n",
       "           Symptom_7         Symptom_8        Symptom_9    Symptom_10  \\\n",
       "0                  0                 0                0             0   \n",
       "1                  0                 0                0             0   \n",
       "2    fast heart rate  excessive hunger  muscle weakness  irritability   \n",
       "3                  0                 0                0             0   \n",
       "4  yellowing of eyes                 0                0             0   \n",
       "\n",
       "              Symptom_11 Symptom_12 Symptom_13 Symptom_14 Symptom_15  \\\n",
       "0                      0          0          0          0          0   \n",
       "1                      0          0          0          0          0   \n",
       "2  abnormal menstruation          0          0          0          0   \n",
       "3                      0          0          0          0          0   \n",
       "4                      0          0          0          0          0   \n",
       "\n",
       "  Symptom_16 Symptom_17  \n",
       "0          0          0  \n",
       "1          0          0  \n",
       "2          0          0  \n",
       "3          0          0  \n",
       "4          0          0  "
      ]
     },
     "execution_count": 90,
     "metadata": {},
     "output_type": "execute_result"
    }
   ],
   "source": [
    "df = df.fillna(0)\n",
    "df.head()"
   ]
  },
  {
   "cell_type": "code",
   "execution_count": 91,
   "metadata": {},
   "outputs": [
    {
     "data": {
      "text/html": [
       "<div>\n",
       "<style scoped>\n",
       "    .dataframe tbody tr th:only-of-type {\n",
       "        vertical-align: middle;\n",
       "    }\n",
       "\n",
       "    .dataframe tbody tr th {\n",
       "        vertical-align: top;\n",
       "    }\n",
       "\n",
       "    .dataframe thead th {\n",
       "        text-align: right;\n",
       "    }\n",
       "</style>\n",
       "<table border=\"1\" class=\"dataframe\">\n",
       "  <thead>\n",
       "    <tr style=\"text-align: right;\">\n",
       "      <th></th>\n",
       "      <th>Symptom</th>\n",
       "      <th>weight</th>\n",
       "    </tr>\n",
       "  </thead>\n",
       "  <tbody>\n",
       "    <tr>\n",
       "      <th>0</th>\n",
       "      <td>itching</td>\n",
       "      <td>1</td>\n",
       "    </tr>\n",
       "    <tr>\n",
       "      <th>1</th>\n",
       "      <td>skin rash</td>\n",
       "      <td>3</td>\n",
       "    </tr>\n",
       "    <tr>\n",
       "      <th>2</th>\n",
       "      <td>nodal skin eruptions</td>\n",
       "      <td>4</td>\n",
       "    </tr>\n",
       "    <tr>\n",
       "      <th>3</th>\n",
       "      <td>continuous sneezing</td>\n",
       "      <td>4</td>\n",
       "    </tr>\n",
       "    <tr>\n",
       "      <th>4</th>\n",
       "      <td>shivering</td>\n",
       "      <td>5</td>\n",
       "    </tr>\n",
       "  </tbody>\n",
       "</table>\n",
       "</div>"
      ],
      "text/plain": [
       "                Symptom  weight\n",
       "0               itching       1\n",
       "1             skin rash       3\n",
       "2  nodal skin eruptions       4\n",
       "3   continuous sneezing       4\n",
       "4             shivering       5"
      ]
     },
     "execution_count": 91,
     "metadata": {},
     "output_type": "execute_result"
    }
   ],
   "source": [
    "df1 = pd.read_csv('Symptom-severity.csv')\n",
    "df1['Symptom'] = df1['Symptom'].str.replace('_',' ')\n",
    "df1.head()"
   ]
  },
  {
   "cell_type": "code",
   "execution_count": 92,
   "metadata": {},
   "outputs": [
    {
     "data": {
      "text/plain": [
       "array(['itching', 'skin rash', 'nodal skin eruptions',\n",
       "       'continuous sneezing', 'shivering', 'chills', 'joint pain',\n",
       "       'stomach pain', 'acidity', 'ulcers on tongue', 'muscle wasting',\n",
       "       'vomiting', 'burning micturition', 'spotting urination', 'fatigue',\n",
       "       'weight gain', 'anxiety', 'cold hands and feets', 'mood swings',\n",
       "       'weight loss', 'restlessness', 'lethargy', 'patches in throat',\n",
       "       'irregular sugar level', 'cough', 'high fever', 'sunken eyes',\n",
       "       'breathlessness', 'sweating', 'dehydration', 'indigestion',\n",
       "       'headache', 'yellowish skin', 'dark urine', 'nausea',\n",
       "       'loss of appetite', 'pain behind the eyes', 'back pain',\n",
       "       'constipation', 'abdominal pain', 'diarrhoea', 'mild fever',\n",
       "       'yellow urine', 'yellowing of eyes', 'acute liver failure',\n",
       "       'fluid overload', 'swelling of stomach', 'swelled lymph nodes',\n",
       "       'malaise', 'blurred and distorted vision', 'phlegm',\n",
       "       'throat irritation', 'redness of eyes', 'sinus pressure',\n",
       "       'runny nose', 'congestion', 'chest pain', 'weakness in limbs',\n",
       "       'fast heart rate', 'pain during bowel movements',\n",
       "       'pain in anal region', 'bloody stool', 'irritation in anus',\n",
       "       'neck pain', 'dizziness', 'cramps', 'bruising', 'obesity',\n",
       "       'swollen legs', 'swollen blood vessels', 'puffy face and eyes',\n",
       "       'enlarged thyroid', 'brittle nails', 'swollen extremeties',\n",
       "       'excessive hunger', 'extra marital contacts',\n",
       "       'drying and tingling lips', 'slurred speech', 'knee pain',\n",
       "       'hip joint pain', 'muscle weakness', 'stiff neck',\n",
       "       'swelling joints', 'movement stiffness', 'spinning movements',\n",
       "       'loss of balance', 'unsteadiness', 'weakness of one body side',\n",
       "       'loss of smell', 'bladder discomfort', 'foul smell ofurine',\n",
       "       'continuous feel of urine', 'passage of gases', 'internal itching',\n",
       "       'toxic look (typhos)', 'depression', 'irritability', 'muscle pain',\n",
       "       'altered sensorium', 'red spots over body', 'belly pain',\n",
       "       'abnormal menstruation', 'dischromic patches',\n",
       "       'watering from eyes', 'increased appetite', 'polyuria',\n",
       "       'family history', 'mucoid sputum', 'rusty sputum',\n",
       "       'lack of concentration', 'visual disturbances',\n",
       "       'receiving blood transfusion', 'receiving unsterile injections',\n",
       "       'coma', 'stomach bleeding', 'distention of abdomen',\n",
       "       'history of alcohol consumption', 'blood in sputum',\n",
       "       'prominent veins on calf', 'palpitations', 'painful walking',\n",
       "       'pus filled pimples', 'blackheads', 'scurring', 'skin peeling',\n",
       "       'silver like dusting', 'small dents in nails',\n",
       "       'inflammatory nails', 'blister', 'red sore around nose',\n",
       "       'yellow crust ooze', 'prognosis'], dtype=object)"
      ]
     },
     "execution_count": 92,
     "metadata": {},
     "output_type": "execute_result"
    }
   ],
   "source": [
    "df1['Symptom'].unique()"
   ]
  },
  {
   "cell_type": "code",
   "execution_count": 93,
   "metadata": {},
   "outputs": [
    {
     "data": {
      "text/html": [
       "<div>\n",
       "<style scoped>\n",
       "    .dataframe tbody tr th:only-of-type {\n",
       "        vertical-align: middle;\n",
       "    }\n",
       "\n",
       "    .dataframe tbody tr th {\n",
       "        vertical-align: top;\n",
       "    }\n",
       "\n",
       "    .dataframe thead th {\n",
       "        text-align: right;\n",
       "    }\n",
       "</style>\n",
       "<table border=\"1\" class=\"dataframe\">\n",
       "  <thead>\n",
       "    <tr style=\"text-align: right;\">\n",
       "      <th></th>\n",
       "      <th>Disease</th>\n",
       "      <th>Symptom_1</th>\n",
       "      <th>Symptom_2</th>\n",
       "      <th>Symptom_3</th>\n",
       "      <th>Symptom_4</th>\n",
       "      <th>Symptom_5</th>\n",
       "      <th>Symptom_6</th>\n",
       "      <th>Symptom_7</th>\n",
       "      <th>Symptom_8</th>\n",
       "      <th>Symptom_9</th>\n",
       "      <th>Symptom_10</th>\n",
       "      <th>Symptom_11</th>\n",
       "      <th>Symptom_12</th>\n",
       "      <th>Symptom_13</th>\n",
       "      <th>Symptom_14</th>\n",
       "      <th>Symptom_15</th>\n",
       "      <th>Symptom_16</th>\n",
       "      <th>Symptom_17</th>\n",
       "    </tr>\n",
       "  </thead>\n",
       "  <tbody>\n",
       "    <tr>\n",
       "      <th>0</th>\n",
       "      <td>Acne</td>\n",
       "      <td>3</td>\n",
       "      <td>2</td>\n",
       "      <td>2</td>\n",
       "      <td>0</td>\n",
       "      <td>0</td>\n",
       "      <td>0</td>\n",
       "      <td>0</td>\n",
       "      <td>0</td>\n",
       "      <td>0</td>\n",
       "      <td>0</td>\n",
       "      <td>0</td>\n",
       "      <td>0</td>\n",
       "      <td>0</td>\n",
       "      <td>0</td>\n",
       "      <td>0</td>\n",
       "      <td>0</td>\n",
       "      <td>0</td>\n",
       "    </tr>\n",
       "    <tr>\n",
       "      <th>1</th>\n",
       "      <td>Acne</td>\n",
       "      <td>3</td>\n",
       "      <td>2</td>\n",
       "      <td>2</td>\n",
       "      <td>2</td>\n",
       "      <td>0</td>\n",
       "      <td>0</td>\n",
       "      <td>0</td>\n",
       "      <td>0</td>\n",
       "      <td>0</td>\n",
       "      <td>0</td>\n",
       "      <td>0</td>\n",
       "      <td>0</td>\n",
       "      <td>0</td>\n",
       "      <td>0</td>\n",
       "      <td>0</td>\n",
       "      <td>0</td>\n",
       "      <td>0</td>\n",
       "    </tr>\n",
       "    <tr>\n",
       "      <th>2</th>\n",
       "      <td>Hyperthyroidism</td>\n",
       "      <td>4</td>\n",
       "      <td>3</td>\n",
       "      <td>3</td>\n",
       "      <td>5</td>\n",
       "      <td>3</td>\n",
       "      <td>6</td>\n",
       "      <td>5</td>\n",
       "      <td>4</td>\n",
       "      <td>2</td>\n",
       "      <td>2</td>\n",
       "      <td>6</td>\n",
       "      <td>0</td>\n",
       "      <td>0</td>\n",
       "      <td>0</td>\n",
       "      <td>0</td>\n",
       "      <td>0</td>\n",
       "      <td>0</td>\n",
       "    </tr>\n",
       "    <tr>\n",
       "      <th>3</th>\n",
       "      <td>AIDS</td>\n",
       "      <td>3</td>\n",
       "      <td>6</td>\n",
       "      <td>7</td>\n",
       "      <td>5</td>\n",
       "      <td>0</td>\n",
       "      <td>0</td>\n",
       "      <td>0</td>\n",
       "      <td>0</td>\n",
       "      <td>0</td>\n",
       "      <td>0</td>\n",
       "      <td>0</td>\n",
       "      <td>0</td>\n",
       "      <td>0</td>\n",
       "      <td>0</td>\n",
       "      <td>0</td>\n",
       "      <td>0</td>\n",
       "      <td>0</td>\n",
       "    </tr>\n",
       "    <tr>\n",
       "      <th>4</th>\n",
       "      <td>Chronic cholestasis</td>\n",
       "      <td>1</td>\n",
       "      <td>5</td>\n",
       "      <td>3</td>\n",
       "      <td>5</td>\n",
       "      <td>4</td>\n",
       "      <td>4</td>\n",
       "      <td>4</td>\n",
       "      <td>0</td>\n",
       "      <td>0</td>\n",
       "      <td>0</td>\n",
       "      <td>0</td>\n",
       "      <td>0</td>\n",
       "      <td>0</td>\n",
       "      <td>0</td>\n",
       "      <td>0</td>\n",
       "      <td>0</td>\n",
       "      <td>0</td>\n",
       "    </tr>\n",
       "  </tbody>\n",
       "</table>\n",
       "</div>"
      ],
      "text/plain": [
       "               Disease Symptom_1 Symptom_2 Symptom_3 Symptom_4 Symptom_5  \\\n",
       "0                 Acne         3         2         2         0         0   \n",
       "1                 Acne         3         2         2         2         0   \n",
       "2      Hyperthyroidism         4         3         3         5         3   \n",
       "3                 AIDS         3         6         7         5         0   \n",
       "4  Chronic cholestasis         1         5         3         5         4   \n",
       "\n",
       "  Symptom_6 Symptom_7 Symptom_8 Symptom_9 Symptom_10 Symptom_11 Symptom_12  \\\n",
       "0         0         0         0         0          0          0          0   \n",
       "1         0         0         0         0          0          0          0   \n",
       "2         6         5         4         2          2          6          0   \n",
       "3         0         0         0         0          0          0          0   \n",
       "4         4         4         0         0          0          0          0   \n",
       "\n",
       "  Symptom_13 Symptom_14 Symptom_15 Symptom_16 Symptom_17  \n",
       "0          0          0          0          0          0  \n",
       "1          0          0          0          0          0  \n",
       "2          0          0          0          0          0  \n",
       "3          0          0          0          0          0  \n",
       "4          0          0          0          0          0  "
      ]
     },
     "execution_count": 93,
     "metadata": {},
     "output_type": "execute_result"
    }
   ],
   "source": [
    "vals = df.values\n",
    "symptoms = df1['Symptom'].unique()\n",
    "\n",
    "for i in range(len(symptoms)):\n",
    "    vals[vals == symptoms[i]] = df1[df1['Symptom'] == symptoms[i]]['weight'].values[0]\n",
    "    \n",
    "d = pd.DataFrame(vals, columns=cols)\n",
    "d.head()"
   ]
  },
  {
   "cell_type": "code",
   "execution_count": 94,
   "metadata": {},
   "outputs": [
    {
     "data": {
      "text/html": [
       "<div>\n",
       "<style scoped>\n",
       "    .dataframe tbody tr th:only-of-type {\n",
       "        vertical-align: middle;\n",
       "    }\n",
       "\n",
       "    .dataframe tbody tr th {\n",
       "        vertical-align: top;\n",
       "    }\n",
       "\n",
       "    .dataframe thead th {\n",
       "        text-align: right;\n",
       "    }\n",
       "</style>\n",
       "<table border=\"1\" class=\"dataframe\">\n",
       "  <thead>\n",
       "    <tr style=\"text-align: right;\">\n",
       "      <th></th>\n",
       "      <th>Disease</th>\n",
       "      <th>Symptom_1</th>\n",
       "      <th>Symptom_2</th>\n",
       "      <th>Symptom_3</th>\n",
       "      <th>Symptom_4</th>\n",
       "      <th>Symptom_5</th>\n",
       "      <th>Symptom_6</th>\n",
       "      <th>Symptom_7</th>\n",
       "      <th>Symptom_8</th>\n",
       "      <th>Symptom_9</th>\n",
       "      <th>Symptom_10</th>\n",
       "      <th>Symptom_11</th>\n",
       "      <th>Symptom_12</th>\n",
       "      <th>Symptom_13</th>\n",
       "      <th>Symptom_14</th>\n",
       "      <th>Symptom_15</th>\n",
       "      <th>Symptom_16</th>\n",
       "      <th>Symptom_17</th>\n",
       "    </tr>\n",
       "  </thead>\n",
       "  <tbody>\n",
       "    <tr>\n",
       "      <th>0</th>\n",
       "      <td>Acne</td>\n",
       "      <td>3</td>\n",
       "      <td>2</td>\n",
       "      <td>2</td>\n",
       "      <td>0</td>\n",
       "      <td>0</td>\n",
       "      <td>0</td>\n",
       "      <td>0</td>\n",
       "      <td>0</td>\n",
       "      <td>0</td>\n",
       "      <td>0</td>\n",
       "      <td>0</td>\n",
       "      <td>0</td>\n",
       "      <td>0</td>\n",
       "      <td>0</td>\n",
       "      <td>0</td>\n",
       "      <td>0</td>\n",
       "      <td>0</td>\n",
       "    </tr>\n",
       "    <tr>\n",
       "      <th>1</th>\n",
       "      <td>Acne</td>\n",
       "      <td>3</td>\n",
       "      <td>2</td>\n",
       "      <td>2</td>\n",
       "      <td>2</td>\n",
       "      <td>0</td>\n",
       "      <td>0</td>\n",
       "      <td>0</td>\n",
       "      <td>0</td>\n",
       "      <td>0</td>\n",
       "      <td>0</td>\n",
       "      <td>0</td>\n",
       "      <td>0</td>\n",
       "      <td>0</td>\n",
       "      <td>0</td>\n",
       "      <td>0</td>\n",
       "      <td>0</td>\n",
       "      <td>0</td>\n",
       "    </tr>\n",
       "    <tr>\n",
       "      <th>2</th>\n",
       "      <td>Hyperthyroidism</td>\n",
       "      <td>4</td>\n",
       "      <td>3</td>\n",
       "      <td>3</td>\n",
       "      <td>5</td>\n",
       "      <td>3</td>\n",
       "      <td>6</td>\n",
       "      <td>5</td>\n",
       "      <td>4</td>\n",
       "      <td>2</td>\n",
       "      <td>2</td>\n",
       "      <td>6</td>\n",
       "      <td>0</td>\n",
       "      <td>0</td>\n",
       "      <td>0</td>\n",
       "      <td>0</td>\n",
       "      <td>0</td>\n",
       "      <td>0</td>\n",
       "    </tr>\n",
       "    <tr>\n",
       "      <th>3</th>\n",
       "      <td>AIDS</td>\n",
       "      <td>3</td>\n",
       "      <td>6</td>\n",
       "      <td>7</td>\n",
       "      <td>5</td>\n",
       "      <td>0</td>\n",
       "      <td>0</td>\n",
       "      <td>0</td>\n",
       "      <td>0</td>\n",
       "      <td>0</td>\n",
       "      <td>0</td>\n",
       "      <td>0</td>\n",
       "      <td>0</td>\n",
       "      <td>0</td>\n",
       "      <td>0</td>\n",
       "      <td>0</td>\n",
       "      <td>0</td>\n",
       "      <td>0</td>\n",
       "    </tr>\n",
       "    <tr>\n",
       "      <th>4</th>\n",
       "      <td>Chronic cholestasis</td>\n",
       "      <td>1</td>\n",
       "      <td>5</td>\n",
       "      <td>3</td>\n",
       "      <td>5</td>\n",
       "      <td>4</td>\n",
       "      <td>4</td>\n",
       "      <td>4</td>\n",
       "      <td>0</td>\n",
       "      <td>0</td>\n",
       "      <td>0</td>\n",
       "      <td>0</td>\n",
       "      <td>0</td>\n",
       "      <td>0</td>\n",
       "      <td>0</td>\n",
       "      <td>0</td>\n",
       "      <td>0</td>\n",
       "      <td>0</td>\n",
       "    </tr>\n",
       "    <tr>\n",
       "      <th>5</th>\n",
       "      <td>Hypertension</td>\n",
       "      <td>3</td>\n",
       "      <td>7</td>\n",
       "      <td>4</td>\n",
       "      <td>4</td>\n",
       "      <td>3</td>\n",
       "      <td>0</td>\n",
       "      <td>0</td>\n",
       "      <td>0</td>\n",
       "      <td>0</td>\n",
       "      <td>0</td>\n",
       "      <td>0</td>\n",
       "      <td>0</td>\n",
       "      <td>0</td>\n",
       "      <td>0</td>\n",
       "      <td>0</td>\n",
       "      <td>0</td>\n",
       "      <td>0</td>\n",
       "    </tr>\n",
       "    <tr>\n",
       "      <th>6</th>\n",
       "      <td>Hypoglycemia</td>\n",
       "      <td>5</td>\n",
       "      <td>4</td>\n",
       "      <td>4</td>\n",
       "      <td>3</td>\n",
       "      <td>3</td>\n",
       "      <td>5</td>\n",
       "      <td>5</td>\n",
       "      <td>4</td>\n",
       "      <td>4</td>\n",
       "      <td>4</td>\n",
       "      <td>2</td>\n",
       "      <td>4</td>\n",
       "      <td>0</td>\n",
       "      <td>0</td>\n",
       "      <td>0</td>\n",
       "      <td>0</td>\n",
       "      <td>0</td>\n",
       "    </tr>\n",
       "    <tr>\n",
       "      <th>7</th>\n",
       "      <td>Arthritis</td>\n",
       "      <td>2</td>\n",
       "      <td>4</td>\n",
       "      <td>5</td>\n",
       "      <td>2</td>\n",
       "      <td>0</td>\n",
       "      <td>0</td>\n",
       "      <td>0</td>\n",
       "      <td>0</td>\n",
       "      <td>0</td>\n",
       "      <td>0</td>\n",
       "      <td>0</td>\n",
       "      <td>0</td>\n",
       "      <td>0</td>\n",
       "      <td>0</td>\n",
       "      <td>0</td>\n",
       "      <td>0</td>\n",
       "      <td>0</td>\n",
       "    </tr>\n",
       "    <tr>\n",
       "      <th>8</th>\n",
       "      <td>Hepatitis B</td>\n",
       "      <td>1</td>\n",
       "      <td>4</td>\n",
       "      <td>2</td>\n",
       "      <td>3</td>\n",
       "      <td>4</td>\n",
       "      <td>4</td>\n",
       "      <td>4</td>\n",
       "      <td>4</td>\n",
       "      <td>4</td>\n",
       "      <td>6</td>\n",
       "      <td>5</td>\n",
       "      <td>2</td>\n",
       "      <td>0</td>\n",
       "      <td>0</td>\n",
       "      <td>0</td>\n",
       "      <td>0</td>\n",
       "      <td>0</td>\n",
       "    </tr>\n",
       "    <tr>\n",
       "      <th>9</th>\n",
       "      <td>Migraine</td>\n",
       "      <td>3</td>\n",
       "      <td>5</td>\n",
       "      <td>3</td>\n",
       "      <td>5</td>\n",
       "      <td>4</td>\n",
       "      <td>4</td>\n",
       "      <td>3</td>\n",
       "      <td>2</td>\n",
       "      <td>3</td>\n",
       "      <td>0</td>\n",
       "      <td>0</td>\n",
       "      <td>0</td>\n",
       "      <td>0</td>\n",
       "      <td>0</td>\n",
       "      <td>0</td>\n",
       "      <td>0</td>\n",
       "      <td>0</td>\n",
       "    </tr>\n",
       "  </tbody>\n",
       "</table>\n",
       "</div>"
      ],
      "text/plain": [
       "               Disease  Symptom_1  Symptom_2  Symptom_3  Symptom_4  Symptom_5  \\\n",
       "0                 Acne          3          2          2          0          0   \n",
       "1                 Acne          3          2          2          2          0   \n",
       "2      Hyperthyroidism          4          3          3          5          3   \n",
       "3                 AIDS          3          6          7          5          0   \n",
       "4  Chronic cholestasis          1          5          3          5          4   \n",
       "5         Hypertension          3          7          4          4          3   \n",
       "6         Hypoglycemia          5          4          4          3          3   \n",
       "7            Arthritis          2          4          5          2          0   \n",
       "8          Hepatitis B          1          4          2          3          4   \n",
       "9             Migraine          3          5          3          5          4   \n",
       "\n",
       "   Symptom_6  Symptom_7  Symptom_8  Symptom_9  Symptom_10  Symptom_11  \\\n",
       "0          0          0          0          0           0           0   \n",
       "1          0          0          0          0           0           0   \n",
       "2          6          5          4          2           2           6   \n",
       "3          0          0          0          0           0           0   \n",
       "4          4          4          0          0           0           0   \n",
       "5          0          0          0          0           0           0   \n",
       "6          5          5          4          4           4           2   \n",
       "7          0          0          0          0           0           0   \n",
       "8          4          4          4          4           6           5   \n",
       "9          4          3          2          3           0           0   \n",
       "\n",
       "   Symptom_12  Symptom_13  Symptom_14  Symptom_15  Symptom_16  Symptom_17  \n",
       "0           0           0           0           0           0           0  \n",
       "1           0           0           0           0           0           0  \n",
       "2           0           0           0           0           0           0  \n",
       "3           0           0           0           0           0           0  \n",
       "4           0           0           0           0           0           0  \n",
       "5           0           0           0           0           0           0  \n",
       "6           4           0           0           0           0           0  \n",
       "7           0           0           0           0           0           0  \n",
       "8           2           0           0           0           0           0  \n",
       "9           0           0           0           0           0           0  "
      ]
     },
     "execution_count": 94,
     "metadata": {},
     "output_type": "execute_result"
    }
   ],
   "source": [
    "d = d.replace('dischromic  patches', 0)\n",
    "d = d.replace('spotting  urination',0)\n",
    "df = d.replace('foul smell of urine',0)\n",
    "df.head(10)"
   ]
  },
  {
   "cell_type": "code",
   "execution_count": 95,
   "metadata": {},
   "outputs": [
    {
     "name": "stdout",
     "output_type": "stream",
     "text": [
      "            count\n",
      "Disease         0\n",
      "Symptom_1       0\n",
      "Symptom_2       0\n",
      "Symptom_3       0\n",
      "Symptom_4       0\n",
      "Symptom_5       0\n",
      "Symptom_6       0\n",
      "Symptom_7       0\n",
      "Symptom_8       0\n",
      "Symptom_9       0\n",
      "Symptom_10      0\n",
      "Symptom_11      0\n",
      "Symptom_12      0\n",
      "Symptom_13      0\n",
      "Symptom_14      0\n",
      "Symptom_15      0\n",
      "Symptom_16      0\n",
      "Symptom_17      0\n"
     ]
    }
   ],
   "source": [
    "null_checker = df.apply(lambda x: sum(x.isnull())).to_frame(name='count')\n",
    "print(null_checker)"
   ]
  },
  {
   "cell_type": "code",
   "execution_count": 97,
   "metadata": {},
   "outputs": [
    {
     "data": {
      "image/png": "[encoded data removed]",
      "text/plain": [
       "<Figure size 720x360 with 1 Axes>"
      ]
     },
     "metadata": {
      "needs_background": "light"
     },
     "output_type": "display_data"
    }
   ],
   "source": [
    "plt.figure(figsize=(10,5))\n",
    "plt.plot(null_checker.index, null_checker['count'])\n",
    "plt.xticks(null_checker.index, null_checker.index, rotation=45,\n",
    "horizontalalignment='right')\n",
    "plt.title('After removing Null values')\n",
    "plt.xlabel('column names')\n",
    "plt.margins(0.01)\n",
    "plt.show()"
   ]
  },
  {
   "cell_type": "code",
   "execution_count": 98,
   "metadata": {},
   "outputs": [
    {
     "name": "stdout",
     "output_type": "stream",
     "text": [
      "Number of symptoms used to identify the disease  132\n",
      "Number of diseases that can be identified  41\n"
     ]
    }
   ],
   "source": [
    "print(\"Number of symptoms used to identify the disease \",len(df1['Symptom'].unique()))\n",
    "print(\"Number of diseases that can be identified \",len(df['Disease'].unique()))"
   ]
  },
  {
   "cell_type": "code",
   "execution_count": 99,
   "metadata": {},
   "outputs": [],
   "source": [
    "data = df.iloc[:,1:].values\n",
    "labels = df['Disease'].values"
   ]
  },
  {
   "cell_type": "code",
   "execution_count": 100,
   "metadata": {},
   "outputs": [
    {
     "name": "stdout",
     "output_type": "stream",
     "text": [
      "(3936, 17) (984, 17) (3936,) (984,)\n"
     ]
    }
   ],
   "source": [
    "x_train, x_test, y_train, y_test = train_test_split(data, labels, train_size = 0.8,random_state=42)\n",
    "print(x_train.shape, x_test.shape, y_train.shape, y_test.shape)"
   ]
  },
  {
   "cell_type": "code",
   "execution_count": 101,
   "metadata": {},
   "outputs": [
    {
     "data": {
      "text/plain": [
       "SVC()"
      ]
     },
     "execution_count": 101,
     "metadata": {},
     "output_type": "execute_result"
    }
   ],
   "source": [
    "SVM_unhyperd= SVC()\n",
    "SVM_unhyperd.fit(x_train, y_train)"
   ]
  },
  {
   "cell_type": "code",
   "execution_count": 102,
   "metadata": {},
   "outputs": [
    {
     "name": "stdout",
     "output_type": "stream",
     "text": [
      "F1-score% = 93.10485856410196 | Accuracy% = 93.4959349593496 | Precision% = 94.2446688327875\n"
     ]
    }
   ],
   "source": [
    "preds = SVM_unhyperd.predict(x_test)\n",
    "conf_mat = confusion_matrix(y_test, preds)\n",
    "df_cm = pd.DataFrame(conf_mat, index=df['Disease'].unique(), columns=df['Disease'].unique())\n",
    "print('F1-score% =', f1_score(y_test, preds, average='macro')*100, '|', 'Accuracy% =', accuracy_score(y_test, preds)*100,'|', \n",
    "      'Precision% =', precision_score(y_test, preds,average='macro')*100)"
   ]
  },
  {
   "cell_type": "code",
   "execution_count": 103,
   "metadata": {},
   "outputs": [
    {
     "data": {
      "text/plain": [
       "<AxesSubplot:>"
      ]
     },
     "execution_count": 103,
     "metadata": {},
     "output_type": "execute_result"
    },
    {
     "data": {
      "image/png": "[encoded data removed]",
      "text/plain": [
       "<Figure size 432x288 with 2 Axes>"
      ]
     },
     "metadata": {
      "needs_background": "light"
     },
     "output_type": "display_data"
    }
   ],
   "source": [
    "#Plot the confusion matrix for 25 diseases\n",
    "sns.heatmap(df_cm)"
   ]
  },
  {
   "cell_type": "code",
   "execution_count": 104,
   "metadata": {},
   "outputs": [
    {
     "name": "stdout",
     "output_type": "stream",
     "text": [
      "Mean Accuracy: 92.988%, Standard Deviation: (0.85%)\n"
     ]
    }
   ],
   "source": [
    "kfold = KFold(n_splits=10,shuffle=True,random_state=42)\n",
    "SVM_unhyperd_train =cross_val_score(SVM_unhyperd, x_train, y_train, cv=kfold, scoring='accuracy')\n",
    "pd.DataFrame(SVM_unhyperd_train,columns=['Scores'])\n",
    "print(\"Mean Accuracy: %.3f%%, Standard Deviation: (%.2f%%)\" % (SVM_unhyperd_train.mean()*100.0, SVM_unhyperd_train.std()*100.0))"
   ]
  },
  {
   "cell_type": "code",
   "execution_count": 105,
   "metadata": {},
   "outputs": [
    {
     "name": "stdout",
     "output_type": "stream",
     "text": [
      "Mean Accuracy: 82.623%, Standard Deviation: (2.54%)\n"
     ]
    }
   ],
   "source": [
    "kfold = KFold(n_splits=10,shuffle=True,random_state=42)\n",
    "SVM_unhyperd_test =cross_val_score(SVM_unhyperd, x_test, y_test, cv=kfold, scoring='accuracy')\n",
    "pd.DataFrame(SVM_unhyperd_test,columns=['Scores'])\n",
    "print(\"Mean Accuracy: %.3f%%, Standard Deviation: (%.2f%%)\" % (SVM_unhyperd_test.mean()*100.0, SVM_unhyperd_test.std()*100.0))"
   ]
  },
  {
   "cell_type": "code",
   "execution_count": 106,
   "metadata": {},
   "outputs": [
    {
     "name": "stdout",
     "output_type": "stream",
     "text": [
      "                                         precision    recall  f1-score   support\n",
      "\n",
      "(vertigo) Paroymsal  Positional Vertigo       0.88      0.83      0.86        18\n",
      "                                   AIDS       0.95      1.00      0.98        20\n",
      "                                   Acne       1.00      1.00      1.00        32\n",
      "                    Alcoholic hepatitis       0.96      0.86      0.91        29\n",
      "                                Allergy       0.89      0.84      0.86        19\n",
      "                              Arthritis       0.91      0.97      0.94        31\n",
      "                       Bronchial Asthma       0.85      0.61      0.71        28\n",
      "                   Cervical spondylosis       0.74      0.97      0.84        30\n",
      "                            Chicken pox       1.00      1.00      1.00        27\n",
      "                    Chronic cholestasis       0.75      0.95      0.84        19\n",
      "                            Common Cold       1.00      1.00      1.00        25\n",
      "                                 Dengue       1.00      1.00      1.00        22\n",
      "                               Diabetes       1.00      1.00      1.00        23\n",
      "           Dimorphic hemmorhoids(piles)       0.94      1.00      0.97        30\n",
      "                          Drug Reaction       1.00      0.90      0.95        21\n",
      "                       Fungal infection       0.86      1.00      0.93        25\n",
      "                                   GERD       0.88      0.96      0.92        24\n",
      "                        Gastroenteritis       0.58      0.95      0.72        20\n",
      "                           Heart attack       1.00      0.50      0.67        18\n",
      "                            Hepatitis B       1.00      1.00      1.00        28\n",
      "                            Hepatitis C       0.95      0.95      0.95        19\n",
      "                            Hepatitis D       1.00      1.00      1.00        22\n",
      "                            Hepatitis E       1.00      1.00      1.00        30\n",
      "                           Hypertension       0.96      0.79      0.87        29\n",
      "                        Hyperthyroidism       1.00      1.00      1.00        24\n",
      "                           Hypoglycemia       1.00      1.00      1.00        27\n",
      "                         Hypothyroidism       1.00      1.00      1.00        28\n",
      "                               Impetigo       1.00      0.96      0.98        24\n",
      "                               Jaundice       1.00      0.72      0.84        25\n",
      "                                Malaria       1.00      1.00      1.00        26\n",
      "                               Migraine       1.00      1.00      1.00        18\n",
      "                        Osteoarthristis       1.00      0.95      0.97        20\n",
      "           Paralysis (brain hemorrhage)       0.70      0.84      0.76        19\n",
      "                    Peptic ulcer diseae       0.90      1.00      0.95        27\n",
      "                              Pneumonia       1.00      1.00      1.00        21\n",
      "                              Psoriasis       1.00      1.00      1.00        22\n",
      "                           Tuberculosis       1.00      1.00      1.00        23\n",
      "                                Typhoid       1.00      1.00      1.00        20\n",
      "                Urinary tract infection       0.94      0.67      0.78        24\n",
      "                         Varicose veins       1.00      1.00      1.00        26\n",
      "                            hepatitis A       1.00      1.00      1.00        21\n",
      "\n",
      "                               accuracy                           0.93       984\n",
      "                              macro avg       0.94      0.93      0.93       984\n",
      "                           weighted avg       0.94      0.93      0.93       984\n",
      "\n"
     ]
    }
   ],
   "source": [
    "print(classification_report(y_test, preds))"
   ]
  },
  {
   "cell_type": "code",
   "execution_count": 107,
   "metadata": {},
   "outputs": [
    {
     "name": "stdout",
     "output_type": "stream",
     "text": [
      "F1-score% = 99.58380389536958 | Accuracy% = 99.59349593495935\n"
     ]
    },
    {
     "data": {
      "text/plain": [
       "<AxesSubplot:>"
      ]
     },
     "execution_count": 107,
     "metadata": {},
     "output_type": "execute_result"
    },
    {
     "data": {
      "image/png": "[encoded data removed]",
      "text/plain": [
       "<Figure size 432x288 with 2 Axes>"
      ]
     },
     "metadata": {
      "needs_background": "light"
     },
     "output_type": "display_data"
    }
   ],
   "source": [
    "#Hyperparameter tuning with GridSearchCV\n",
    "SVM_hyperd = SVC(C=0.02, gamma=0.3, kernel='poly')\n",
    "SVM_hyperd.fit(x_train, y_train)\n",
    "preds = SVM_hyperd.predict(x_test)\n",
    "conf_mat = confusion_matrix(y_test, preds)\n",
    "df_cm = pd.DataFrame(conf_mat, index=df['Disease'].unique(), columns=df['Disease'].unique())\n",
    "print('F1-score% =', f1_score(y_test, preds, average='macro')*100, '|', 'Accuracy% =', accuracy_score(y_test, preds)*100)\n",
    "sns.heatmap(df_cm)"
   ]
  },
  {
   "cell_type": "code",
   "execution_count": 108,
   "metadata": {},
   "outputs": [],
   "source": []
  },
  {
   "cell_type": "code",
   "execution_count": 109,
   "metadata": {},
   "outputs": [
    {
     "name": "stdout",
     "output_type": "stream",
     "text": [
      "Mean Accuracy: 99.492%, Standard Deviation: (0.38%)\n"
     ]
    }
   ],
   "source": [
    "#Using 10-Fold Cross Validation to estimate the performance of machine learning models\n",
    "kfold = KFold(n_splits=10,shuffle=True,random_state=42)\n",
    "SVM_hyperd_train =cross_val_score(SVM_hyperd, x_train, y_train, cv=kfold, scoring='accuracy')\n",
    "pd.DataFrame(SVM_hyperd_train,columns=['Scores'])\n",
    "print(\"Mean Accuracy: %.3f%%, Standard Deviation: (%.2f%%)\" % (SVM_hyperd_train.mean()*100.0, SVM_hyperd_train.std()*100.0))"
   ]
  },
  {
   "cell_type": "code",
   "execution_count": 110,
   "metadata": {},
   "outputs": [
    {
     "name": "stdout",
     "output_type": "stream",
     "text": [
      "Mean Accuracy: 96.639%, Standard Deviation: (1.94%)\n"
     ]
    }
   ],
   "source": [
    "kfold = KFold(n_splits=10,shuffle=True,random_state=42)\n",
    "SVM_hyperd_test =cross_val_score(SVM_hyperd, x_test, y_test, cv=kfold, scoring='accuracy')\n",
    "pd.DataFrame(SVM_hyperd_test,columns=['Scores'])\n",
    "print(\"Mean Accuracy: %.3f%%, Standard Deviation: (%.2f%%)\" % (SVM_hyperd_test.mean()*100.0, SVM_hyperd_test.std()*100.0))"
   ]
  },
  {
   "cell_type": "code",
   "execution_count": 111,
   "metadata": {},
   "outputs": [
    {
     "name": "stdout",
     "output_type": "stream",
     "text": [
      "F1-score% = 86.58357842139314 | Accuracy% = 87.70325203252033\n"
     ]
    },
    {
     "data": {
      "text/plain": [
       "<AxesSubplot:>"
      ]
     },
     "execution_count": 111,
     "metadata": {},
     "output_type": "execute_result"
    },
    {
     "data": {
      "image/png": "[encoded data removed]",
      "text/plain": [
       "<Figure size 432x288 with 2 Axes>"
      ]
     },
     "metadata": {
      "needs_background": "light"
     },
     "output_type": "display_data"
    }
   ],
   "source": [
    "#NAIVE BAYES\n",
    "from sklearn.naive_bayes import GaussianNB\n",
    "gaussian = GaussianNB()\n",
    "gaussian.fit(x_train, y_train)\n",
    "preds=gaussian.predict(x_test)\n",
    "conf_mat = confusion_matrix(y_test, preds)\n",
    "df_cm = pd.DataFrame(conf_mat, index=df['Disease'].unique(), columns=df['Disease'].unique())\n",
    "print('F1-score% =', f1_score(y_test, preds, average='macro')*100, '|', 'Accuracy% =', accuracy_score(y_test, preds)*100)\n",
    "sns.heatmap(df_cm)"
   ]
  },
  {
   "cell_type": "code",
   "execution_count": 112,
   "metadata": {},
   "outputs": [
    {
     "name": "stdout",
     "output_type": "stream",
     "text": [
      "Mean Accuracy: 86.840%, Standard Deviation: (1.65%)\n"
     ]
    }
   ],
   "source": [
    "kfold = KFold(n_splits=10,shuffle=True,random_state=42)\n",
    "gaussian_train =cross_val_score(gaussian, x_train, y_train, cv=kfold, scoring='accuracy')\n",
    "pd.DataFrame(gaussian_train,columns=['Scores'])\n",
    "print(\"Mean Accuracy: %.3f%%, Standard Deviation: (%.2f%%)\" % (gaussian_train.mean()*100.0, gaussian_train.std()*100.0))"
   ]
  },
  {
   "cell_type": "code",
   "execution_count": 113,
   "metadata": {},
   "outputs": [
    {
     "name": "stdout",
     "output_type": "stream",
     "text": [
      "Mean Accuracy: 85.666%, Standard Deviation: (1.77%)\n"
     ]
    }
   ],
   "source": [
    "kfold = KFold(n_splits=10,shuffle=True,random_state=42)\n",
    "gaussian_test =cross_val_score(gaussian, x_test, y_test, cv=kfold, scoring='accuracy')\n",
    "pd.DataFrame(gaussian_test,columns=['Scores'])\n",
    "print(\"Mean Accuracy: %.3f%%, Standard Deviation: (%.2f%%)\" % (gaussian_test.mean()*100.0, gaussian_test.std()*100.0))"
   ]
  },
  {
   "cell_type": "code",
   "execution_count": 114,
   "metadata": {},
   "outputs": [
    {
     "name": "stdout",
     "output_type": "stream",
     "text": [
      "F1-score% = 95.7812664665753 | Accuracy% = 95.83333333333334\n"
     ]
    },
    {
     "data": {
      "text/plain": [
       "<AxesSubplot:>"
      ]
     },
     "execution_count": 114,
     "metadata": {},
     "output_type": "execute_result"
    },
    {
     "data": {
      "image/png": "[encoded data removed]",
      "text/plain": [
       "<Figure size 432x288 with 2 Axes>"
      ]
     },
     "metadata": {
      "needs_background": "light"
     },
     "output_type": "display_data"
    }
   ],
   "source": [
    "#Decision Tree\n",
    "tree =DecisionTreeClassifier(criterion='gini',random_state=42,max_depth=13)\n",
    "tree.fit(x_train, y_train)\n",
    "preds=tree.predict(x_test)\n",
    "conf_mat = confusion_matrix(y_test, preds)\n",
    "df_cm = pd.DataFrame(conf_mat, index=df['Disease'].unique(), columns=df['Disease'].unique())\n",
    "print('F1-score% =', f1_score(y_test, preds, average='macro')*100, '|', 'Accuracy% =', accuracy_score(y_test, preds)*100)\n",
    "sns.heatmap(df_cm)"
   ]
  },
  {
   "cell_type": "code",
   "execution_count": 115,
   "metadata": {},
   "outputs": [
    {
     "name": "stdout",
     "output_type": "stream",
     "text": [
      "Mean Accuracy: 95.706%, Standard Deviation: (1.99%)\n"
     ]
    }
   ],
   "source": [
    "kfold = KFold(n_splits=10,shuffle=True,random_state=42)\n",
    "DS_train =cross_val_score(tree, x_train, y_train, cv=kfold, scoring='accuracy')\n",
    "pd.DataFrame(DS_train,columns=['Scores'])\n",
    "print(\"Mean Accuracy: %.3f%%, Standard Deviation: (%.2f%%)\" % (DS_train.mean()*100.0, DS_train.std()*100.0))"
   ]
  },
  {
   "cell_type": "code",
   "execution_count": 116,
   "metadata": {},
   "outputs": [
    {
     "name": "stdout",
     "output_type": "stream",
     "text": [
      "Mean Accuracy: 94.198%, Standard Deviation: (3.57%)\n"
     ]
    }
   ],
   "source": [
    "kfold = KFold(n_splits=10,shuffle=True,random_state=42)\n",
    "DS_test =cross_val_score(tree, x_test, y_test, cv=kfold, scoring='accuracy')\n",
    "pd.DataFrame(DS_test,columns=['Scores'])\n",
    "print(\"Mean Accuracy: %.3f%%, Standard Deviation: (%.2f%%)\" % (DS_test.mean()*100.0, DS_test.std()*100.0))"
   ]
  },
  {
   "cell_type": "code",
   "execution_count": 117,
   "metadata": {},
   "outputs": [],
   "source": [
    "#Random Forest\n",
    "rfc=RandomForestClassifier(random_state=42)"
   ]
  },
  {
   "cell_type": "code",
   "execution_count": 118,
   "metadata": {},
   "outputs": [
    {
     "name": "stdout",
     "output_type": "stream",
     "text": [
      "F1-score% = 99.58380389536958 | Accuracy% = 99.59349593495935\n"
     ]
    },
    {
     "data": {
      "text/plain": [
       "<AxesSubplot:>"
      ]
     },
     "execution_count": 118,
     "metadata": {},
     "output_type": "execute_result"
    },
    {
     "data": {
      "image/png": "[encoded data removed]",
      "text/plain": [
       "<Figure size 432x288 with 2 Axes>"
      ]
     },
     "metadata": {
      "needs_background": "light"
     },
     "output_type": "display_data"
    }
   ],
   "source": [
    "rnd_forest = RandomForestClassifier(random_state=42, max_features='sqrt', n_estimators= 500, max_depth=13)\n",
    "rnd_forest.fit(x_train,y_train)\n",
    "preds=rnd_forest.predict(x_test)\n",
    "conf_mat = confusion_matrix(y_test, preds)\n",
    "df_cm = pd.DataFrame(conf_mat, index=df['Disease'].unique(), columns=df['Disease'].unique())\n",
    "print('F1-score% =', f1_score(y_test, preds, average='macro')*100, '|', 'Accuracy% =', accuracy_score(y_test, preds)*100)\n",
    "sns.heatmap(df_cm)"
   ]
  },
  {
   "cell_type": "code",
   "execution_count": 119,
   "metadata": {},
   "outputs": [
    {
     "name": "stdout",
     "output_type": "stream",
     "text": [
      "Mean Accuracy: 99.187%, Standard Deviation: (0.44%)\n"
     ]
    }
   ],
   "source": [
    "kfold = KFold(n_splits=10,shuffle=True,random_state=42)\n",
    "rnd_forest_train =cross_val_score(rnd_forest, x_train, y_train, cv=kfold, scoring='accuracy')\n",
    "pd.DataFrame(rnd_forest_train,columns=['Scores'])\n",
    "print(\"Mean Accuracy: %.3f%%, Standard Deviation: (%.2f%%)\" % (rnd_forest_train.mean()*100.0, rnd_forest_train.std()*100.0))"
   ]
  },
  {
   "cell_type": "code",
   "execution_count": 121,
   "metadata": {},
   "outputs": [
    {
     "name": "stdout",
     "output_type": "stream",
     "text": [
      "Mean Accuracy: 98.575%, Standard Deviation: (1.31%)\n"
     ]
    }
   ],
   "source": [
    "kfold = KFold(n_splits=10,shuffle=True,random_state=42)\n",
    "rnd_forest_test =cross_val_score(rnd_forest, x_test, y_test, cv=kfold, scoring='accuracy')\n",
    "pd.DataFrame(rnd_forest_test,columns=['Scores'])\n",
    "print(\"Mean Accuracy: %.3f%%, Standard Deviation: (%.2f%%)\" % (rnd_forest_test.mean()*100.0, rnd_forest_test.std()*100.0))"
   ]
  },
  {
   "cell_type": "code",
   "execution_count": 122,
   "metadata": {},
   "outputs": [],
   "source": [
    "#Function to manually test the models\n",
    "def predd(S1,S2,S3,S4,S5,S6,S7,S8,S9,S10,S11,S12,S13,S14,S15,S16,S17,x):\n",
    "    psymptoms = [S1,S2,S3,S4,S5,S6,S7,S8,S9,S10,S11,S12,S13,S14,S15,S16,S17]\n",
    "    print(psymptoms)\n",
    "    a = np.array(df1[\"Symptom\"])\n",
    "    b = np.array(df1[\"weight\"])\n",
    "    for j in range(len(psymptoms)):\n",
    "        for k in range(len(a)):\n",
    "            if psymptoms[j]==a[k]:\n",
    "                psymptoms[j]=b[k]\n",
    "\n",
    "    psy = [psymptoms]\n",
    "\n",
    "    pred2 = x.predict(psy)\n",
    "    print(\"The prediction is\",pred2[0])"
   ]
  },
  {
   "cell_type": "code",
   "execution_count": 123,
   "metadata": {},
   "outputs": [
    {
     "name": "stdout",
     "output_type": "stream",
     "text": [
      "['stomach pain', 'chills', 'nodal skin eruptions', 'muscle weakness', 0, 0, 0, 0, 0, 0, 0, 0, 0, 0, 0, 0, 0]\n",
      "The prediction is Paralysis (brain hemorrhage)\n"
     ]
    }
   ],
   "source": [
    "sympList=df1[\"Symptom\"].to_list()\n",
    "predd(sympList[7],sympList[5],sympList[2],sympList[80],0,0,0,0,0,0,0,0,0,0,0,0,0,rnd_forest)"
   ]
  },
  {
   "cell_type": "code",
   "execution_count": 124,
   "metadata": {},
   "outputs": [
    {
     "name": "stdout",
     "output_type": "stream",
     "text": [
      "['acidity', 'skin rash', 'nodal skin eruptions', 'muscle weakness', 0, 0, 0, 0, 0, 0, 0, 0, 0, 0, 0, 0, 0]\n",
      "The prediction is Paralysis (brain hemorrhage)\n"
     ]
    }
   ],
   "source": [
    "sympList=df1[\"Symptom\"].to_list()\n",
    "predd(sympList[8],sympList[1],sympList[2],sympList[80],0,0,0,0,0,0,0,0,0,0,0,0,0,SVM_hyperd)"
   ]
  },
  {
   "cell_type": "code",
   "execution_count": 125,
   "metadata": {},
   "outputs": [
    {
     "name": "stdout",
     "output_type": "stream",
     "text": [
      "['acidity', 'chills', 'nodal skin eruptions', 'muscle weakness', 0, 0, 0, 0, 0, 0, 0, 0, 0, 0, 0, 0, 0]\n",
      "The prediction is Allergy\n"
     ]
    }
   ],
   "source": [
    "sympList=df1[\"Symptom\"].to_list()\n",
    "predd(sympList[8],sympList[5],sympList[2],sympList[80],0,0,0,0,0,0,0,0,0,0,0,0,0,SVM_unhyperd)"
   ]
  },
  {
   "cell_type": "code",
   "execution_count": 126,
   "metadata": {},
   "outputs": [
    {
     "data": {
      "image/png": "[encoded data removed]",
      "text/plain": [
       "<Figure size 1080x720 with 1 Axes>"
      ]
     },
     "metadata": {
      "needs_background": "light"
     },
     "output_type": "display_data"
    }
   ],
   "source": [
    "n_groups = 5\n",
    "algorithms = ('Naive Bayes','Unhyperd SVM', 'Hyperd SVM','Decision Tree', 'Random Forest')\n",
    "train_accuracy = (gaussian_train.mean()*100.0, \n",
    "                 SVM_unhyperd_train.mean()*100.0,\n",
    "                 SVM_hyperd_train.mean()*100.0,\n",
    "                 DS_train.mean()*100.0,\n",
    "                 rnd_forest_train.mean()*100.0,\n",
    "                 )\n",
    "\n",
    "\n",
    "test_accuracy = (gaussian_test.mean()*100.0, \n",
    "                 SVM_unhyperd_test.mean()*100.0,\n",
    "                 SVM_hyperd_test.mean()*100.0,\n",
    "                 DS_test.mean()*100.0,\n",
    "                 rnd_forest_test.mean()*100.0\n",
    "                )\n",
    "\n",
    "Standard_Deviation=(gaussian_test.std()*100.0, \n",
    "                 SVM_unhyperd_test.std()*100.0,\n",
    "                 SVM_hyperd_test.std()*100.0,\n",
    "                 DS_test.std()*100.0,     \n",
    "                 rnd_forest_test.std()*100.0\n",
    "                 \n",
    "                   )\n",
    "\n",
    "# create plot\n",
    "fig, ax = plt.subplots(figsize=(15, 10))\n",
    "index = np.arange(n_groups)\n",
    "bar_width = 0.3\n",
    "opacity = 1\n",
    "rects1 = plt.bar(index, train_accuracy, bar_width, alpha = opacity, color='Cornflowerblue', label='Train')\n",
    "rects2 = plt.bar(index + bar_width, test_accuracy, bar_width, alpha = opacity, color='Teal', label='Test')\n",
    "rects3 = plt.bar(index + bar_width, Standard_Deviation, bar_width, alpha = opacity, color='red', label='Standard Deviation')\n",
    "plt.xlabel('Algorithm') # x axis label\n",
    "plt.ylabel('Accuracy (%)') # y axis label\n",
    "plt.ylim(0, 115)\n",
    "plt.title('Comparison of Algorithm Accuracies') # plot title\n",
    "plt.xticks(index + bar_width * 0.5, algorithms) # x axis data labels\n",
    "plt.legend(loc = 'upper right') # show legend\n",
    "for index, data in enumerate(train_accuracy):\n",
    "    plt.text(x = index - 0.035, y = data + 1, s = round(data, 2), fontdict = dict(fontsize = 8))\n",
    "for index, data in enumerate(test_accuracy):\n",
    "    plt.text(x = index + 0.25, y = data + 1, s = round(data, 2), fontdict = dict(fontsize = 8))\n",
    "for index, data in enumerate(Standard_Deviation):\n",
    "    plt.text(x = index + 0.25, y = data + 1, s = round(data, 2), fontdict = dict(fontsize = 8))    "
   ]
  },
  {
   "cell_type": "code",
   "execution_count": null,
   "metadata": {},
   "outputs": [],
   "source": []
  }
 ],
 "metadata": {
  "kernelspec": {
   "display_name": "Python 3",
   "language": "python",
   "name": "python3"
  },
  "language_info": {
   "codemirror_mode": {
    "name": "ipython",
    "version": 3
   },
   "file_extension": ".py",
   "mimetype": "text/x-python",
   "name": "python",
   "nbconvert_exporter": "python",
   "pygments_lexer": "ipython3",
   "version": "3.8.5"
  }
 },
 "nbformat": 4,
 "nbformat_minor": 4
}
